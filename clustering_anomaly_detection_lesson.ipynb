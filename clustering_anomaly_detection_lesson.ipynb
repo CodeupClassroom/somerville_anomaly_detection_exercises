{
 "cells": [
  {
   "cell_type": "markdown",
   "id": "0a23679a",
   "metadata": {},
   "source": [
    "# Lesson: Anomaly Detection - DENSITY-BASED CLUSTERING"
   ]
  },
  {
   "cell_type": "markdown",
   "id": "30439f36-6ef0-4480-adc9-26da1f5c2f75",
   "metadata": {},
   "source": [
    "<hr style=\"border:2px solid gray\">\n",
    "\n",
    "- Assumption: Data points that are similar tend to belong to similar groups or clusters, as determined by their distance from local centroids. Normal data points occur around a dense neighborhood and abnormalities are far away.\n",
    "\n",
    "- Using density based clustering, like DBSCAN, we can design the model such that the data points that do not fall into a cluster are the anomalies."
   ]
  },
  {
   "cell_type": "markdown",
   "id": "7cacc719-9bca-4d7a-9930-f8a0da58a3c8",
   "metadata": {},
   "source": [
    "# Steps\n",
    "1. Select variables you want to cluster: \n",
    "> `df = df[[\"col1\", \"col2\"]]`\n",
    "\n",
    "2. Convert to array & dtype float: \n",
    "> `np_array = df.values.astype(\"float32\", copy = False)`\n",
    "\n",
    "3. Scale to standard normal:\n",
    "> `scaler = StandardScaler().fit(np_array) np_array = scaler.transform(np_array)`\n",
    "\n",
    "4. Create DBSCAN object and fit: \n",
    "> `dbsc = DBSCAN(eps = .75, min_samples = 15).fit(np_array)`\n",
    "\n",
    "5. Extract labels: \n",
    "> `labels = dbsc.labels_`\n",
    "\n",
    "6. Add labels back to original dataframe:\n",
    "> `df['labels'] = labels`\n",
    "\n",
    "7. Explore:\n",
    "> `df.labels.value_counts() sns.scatterplot(df.col1, df.col2, hue=df.labels)`"
   ]
  },
  {
   "cell_type": "code",
   "execution_count": 46,
   "id": "c1925265-c037-42c3-abc9-2a53ebfb2a54",
   "metadata": {},
   "outputs": [],
   "source": [
    "import warnings\n",
    "warnings.filterwarnings(\"ignore\")\n",
    "\n",
    "import matplotlib.pyplot as plt\n",
    "import seaborn as sns\n",
    "import numpy as np\n",
    "import pandas as pd\n",
    "import os\n",
    "import itertools\n",
    "\n",
    "# DBSCAN import\n",
    "from sklearn.cluster import DBSCAN\n",
    "\n",
    "# Scaler import\n",
    "from sklearn.preprocessing import MinMaxScaler\n"
   ]
  },
  {
   "cell_type": "markdown",
   "id": "a4e58be5-b244-4e2c-88d0-b43dfb456b2b",
   "metadata": {},
   "source": [
    "# Acquire"
   ]
  },
  {
   "cell_type": "code",
   "execution_count": null,
   "id": "46fe2840-3558-45c6-8eb7-c440626b533f",
   "metadata": {
    "tags": []
   },
   "outputs": [],
   "source": [
    "def get_connection_url(db, username=os.getenv('sqlUSER'), host=os.getenv('sqlHOST'), password=os.getenv('sqlPSWD')):\n",
    "    \"\"\"\n",
    "    This function will:\n",
    "    - take username, pswd, host credentials from imported env module\n",
    "    - output a formatted connection_url\n",
    "    \"\"\"\n",
    "    return f'mysql+pymysql://{username}:{password}@{host}/{db}'\n"
   ]
  },
  {
   "cell_type": "code",
   "execution_count": null,
   "id": "8becaedd-f1c7-4420-83f4-b272d2a68b9d",
   "metadata": {},
   "outputs": [],
   "source": [
    "from env import host, user, password\n",
    "\n",
    "def get_connection_url(database, host=host, user=user, password=password):\n",
    "    return f'mysql+pymysql://{user}:{password}@{host}/{database}'"
   ]
  },
  {
   "cell_type": "code",
   "execution_count": null,
   "id": "f496b7ab-afaf-42a1-9656-c838be70e511",
   "metadata": {},
   "outputs": [],
   "source": [
    "url = get_connection_url(\"grocery_db\")\n",
    "\n",
    "sql = \"\"\"\n",
    "select *\n",
    "from grocery_customers\n",
    "\"\"\"\n",
    "\n",
    "df = pd.read_sql(sql, url, index_col=\"customer_id\")\n",
    "df.head()"
   ]
  },
  {
   "cell_type": "code",
   "execution_count": null,
   "id": "cb88faad-666d-4391-aa72-eac326fa198f",
   "metadata": {},
   "outputs": [],
   "source": [
    "df.info()"
   ]
  },
  {
   "cell_type": "markdown",
   "id": "994cc40a-fd3a-46bd-aaa9-2f3591010031",
   "metadata": {},
   "source": [
    "___\n",
    "\n",
    "# Follow the Steps\n",
    "\n",
    "# Step 1: Select variables you want to cluster"
   ]
  },
  {
   "cell_type": "code",
   "execution_count": null,
   "id": "bc073aa6-c784-4e5b-b148-f8f5cb29a7fc",
   "metadata": {},
   "outputs": [],
   "source": [
    "# Cluster on all or a selected subset of features\n",
    "grocery_milk_fresh = df[['Grocery', 'Milk', 'Fresh']]\n",
    "grocery_milk_fresh.head()"
   ]
  },
  {
   "cell_type": "markdown",
   "id": "9a762b94-6a2f-4362-aba8-02134c3092d6",
   "metadata": {},
   "source": [
    "# Step 2: Convert to array & dtype float"
   ]
  },
  {
   "cell_type": "code",
   "execution_count": null,
   "id": "d9705f68-14b6-4683-a1fb-acd1cf572921",
   "metadata": {},
   "outputs": [],
   "source": [
    "df.info()"
   ]
  },
  {
   "cell_type": "code",
   "execution_count": null,
   "id": "c0c52879-c075-4549-83fb-2668e0b6a06b",
   "metadata": {},
   "outputs": [],
   "source": [
    "grocery_milk_fresh.iloc[0]"
   ]
  },
  {
   "cell_type": "code",
   "execution_count": null,
   "id": "73e03d1d-c775-4f3c-a800-fe5ee92dddc6",
   "metadata": {},
   "outputs": [],
   "source": [
    "grocery_milk_fresh.values.astype(\"float32\", copy=False)[0]"
   ]
  },
  {
   "cell_type": "code",
   "execution_count": null,
   "id": "2a1d7f73-2c35-4463-bde0-72d185d2011a",
   "metadata": {},
   "outputs": [],
   "source": [
    "#convert to an array and turn into float\n",
    "np_array = grocery_milk_fresh.values.astype(\"float32\", copy=False)"
   ]
  },
  {
   "cell_type": "markdown",
   "id": "c02db0cf-3f29-4b55-a594-875b8d131131",
   "metadata": {},
   "source": [
    "# Step 3: Scale to standard normal"
   ]
  },
  {
   "cell_type": "code",
   "execution_count": null,
   "id": "02bce881-1ed9-4029-bb67-cdb4394ce99a",
   "metadata": {},
   "outputs": [],
   "source": [
    "# MAKE the scaler\n",
    "mms = MinMaxScaler()\n",
    "\n",
    "# FIT/transform the scaler\n",
    "gmf_scaled = mms.fit_transform(np_array)\n",
    "\n",
    "gmf_scaled"
   ]
  },
  {
   "cell_type": "code",
   "execution_count": null,
   "id": "fe6130e0-f225-4f35-9952-e3232244266f",
   "metadata": {},
   "outputs": [],
   "source": [
    "grocery_milk_fresh.columns"
   ]
  },
  {
   "cell_type": "code",
   "execution_count": null,
   "id": "38f4de3a-c618-4572-ba13-a19ed4d1c89c",
   "metadata": {},
   "outputs": [],
   "source": [
    "[\"Scaled_\"+column for column in grocery_milk_fresh.columns]"
   ]
  },
  {
   "cell_type": "code",
   "execution_count": null,
   "id": "c9273a3a-95e4-48c5-887d-1914bfdb13a8",
   "metadata": {},
   "outputs": [],
   "source": [
    "# Now, let's add the scaled value columns back onto the dataframe\n",
    "scaled_columns = [\"Scaled_\"+column for column in grocery_milk_fresh.columns]"
   ]
  },
  {
   "cell_type": "code",
   "execution_count": null,
   "id": "8067d76f-52e2-4fdf-9f54-546a11dfd004",
   "metadata": {},
   "outputs": [],
   "source": [
    "# Save a copy of the original dataframe\n",
    "original_df = df.copy()"
   ]
  },
  {
   "cell_type": "code",
   "execution_count": null,
   "id": "8eaa1459-7c9a-4478-b48e-9d363a2e6eba",
   "metadata": {},
   "outputs": [],
   "source": [
    "# Create a dataframe containing the scaled array of values\n",
    "scaled_df = pd.DataFrame(gmf_scaled, columns=scaled_columns)"
   ]
  },
  {
   "cell_type": "code",
   "execution_count": null,
   "id": "fe2fcd2b-dd01-4fbf-a715-bb2809b0070f",
   "metadata": {},
   "outputs": [],
   "source": [
    "scaled_df"
   ]
  },
  {
   "cell_type": "code",
   "execution_count": null,
   "id": "0d8de6f1-83b6-45bc-87f6-ae43e9985975",
   "metadata": {},
   "outputs": [],
   "source": [
    "df.merge(scaled_df, on=df.index)"
   ]
  },
  {
   "cell_type": "code",
   "execution_count": null,
   "id": "420c26ac-5342-4e53-9649-ab7fc7cebb55",
   "metadata": {},
   "outputs": [],
   "source": [
    "# Merge the scaled and non-scaled values into one dataframe\n",
    "df = df.merge(scaled_df, on=df.index)\n",
    "df = df.drop(columns=['key_0'])"
   ]
  },
  {
   "cell_type": "code",
   "execution_count": null,
   "id": "e54366d6-d032-4e97-b99a-be562fd6d4e9",
   "metadata": {},
   "outputs": [],
   "source": [
    "df.head()"
   ]
  },
  {
   "cell_type": "markdown",
   "id": "a9d74bc3-a2ce-494f-8920-77f10c5e2d40",
   "metadata": {},
   "source": [
    "# Step 4: Create <a href=\"https://scikit-learn.org/stable/modules/generated/sklearn.cluster.DBSCAN.html\">DBSCAN</a> object and fit"
   ]
  },
  {
   "cell_type": "markdown",
   "id": "243d5569-f108-4b07-af47-d29da5cb222f",
   "metadata": {},
   "source": [
    "#### Construct a DBSCAN object that requires a **minimum of 20 data points** in a neighborhood of **radius 0.1** to be considered a core point."
   ]
  },
  {
   "cell_type": "code",
   "execution_count": null,
   "id": "5a730b20-869e-4bb3-92f6-18b685d51523",
   "metadata": {},
   "outputs": [],
   "source": [
    "# Make the object\n",
    "dbsc = DBSCAN(eps = .1, min_samples=20)\n",
    "\n",
    "# Fit the object\n",
    "dbsc.fit(gmf_scaled)"
   ]
  },
  {
   "attachments": {
    "65df40c9-894e-451f-a1de-e661ed301709.png": {
     "image/png": "[encoded data removed]"
    }
   },
   "cell_type": "markdown",
   "id": "1543d6d4-c60e-4c53-b916-51d3c31abe9e",
   "metadata": {},
   "source": [
    "# Step 5: Extract labels\n",
    "\n",
    "\n",
    "**NOTE:**\n",
    "![image.png](attachment:65df40c9-894e-451f-a1de-e661ed301709.png)\n",
    "\n",
    "**Note NOTE:**\n",
    "Clusters will be identified as an index: `[0,1,2,3,...]`\n",
    "\n",
    "<a href = \"https://towardsdatascience.com/explaining-dbscan-clustering-18eaf5c83b31\">Interesting article</a> diving deeper into using DBSCAN to create clusters as well as identify anomalies."
   ]
  },
  {
   "cell_type": "code",
   "execution_count": null,
   "id": "b5c4676b-2c46-4b63-8487-a0c5bfac503b",
   "metadata": {
    "scrolled": true,
    "tags": []
   },
   "outputs": [],
   "source": [
    "dbsc.labels_"
   ]
  },
  {
   "cell_type": "markdown",
   "id": "d0ff2a56-3a45-4a70-be00-1a2488ddb7c4",
   "metadata": {},
   "source": [
    "# Step 6: Add labels back to original dataframe"
   ]
  },
  {
   "cell_type": "code",
   "execution_count": null,
   "id": "ef917505-091b-466b-936c-c9bd5f79b2b8",
   "metadata": {},
   "outputs": [],
   "source": [
    "# Assign the cluster labels\n",
    "df['gmf_labels'] = dbsc.labels_"
   ]
  },
  {
   "cell_type": "code",
   "execution_count": null,
   "id": "cdfb8754",
   "metadata": {},
   "outputs": [],
   "source": [
    "#see what this dataframe looks like\n",
    "df.sample(5)"
   ]
  },
  {
   "cell_type": "markdown",
   "id": "83d162ad-e1c3-43d5-a9fc-10da2dec93e3",
   "metadata": {},
   "source": [
    "# Step 7: Explore"
   ]
  },
  {
   "cell_type": "markdown",
   "id": "7a2f455f-b9d2-482d-bc4f-d10e3ffad1c3",
   "metadata": {},
   "source": [
    "<div class=\"alert alert-block alert-info\">\n",
    "<b>Remember:</b> \n",
    "<br>\n",
    "    \n",
    "- <b>-1</b>: refers to data that does <u>not</u> fall into a cluster\n",
    "- <b>0</b>: refers to data that does fall into the first cluster\n",
    "</div>"
   ]
  },
  {
   "cell_type": "code",
   "execution_count": null,
   "id": "c479c126",
   "metadata": {},
   "outputs": [],
   "source": [
    "#let's see what labels holds\n",
    "df.gmf_labels.value_counts()"
   ]
  },
  {
   "cell_type": "code",
   "execution_count": null,
   "id": "65fad41e-b5a3-41a7-a6f9-c0ef63313799",
   "metadata": {},
   "outputs": [],
   "source": [
    "df.head()"
   ]
  },
  {
   "cell_type": "code",
   "execution_count": null,
   "id": "119643af-e296-49db-bd19-f04ff3a4e17c",
   "metadata": {},
   "outputs": [],
   "source": [
    "for combination in itertools.combinations(grocery_milk_fresh.columns,2):\n",
    "    print(combination)"
   ]
  },
  {
   "cell_type": "code",
   "execution_count": null,
   "id": "effcb7cf-c898-4c04-aebb-6e447aaf7e7f",
   "metadata": {},
   "outputs": [],
   "source": [
    "combination[0]"
   ]
  },
  {
   "cell_type": "code",
   "execution_count": null,
   "id": "0be61d2b-4931-4797-83ec-f0af7960e40c",
   "metadata": {
    "scrolled": true,
    "tags": []
   },
   "outputs": [],
   "source": [
    "for combination in itertools.combinations(grocery_milk_fresh.columns, 2):\n",
    "    sns.scatterplot(df[combination[0]], df[combination[1]], hue=df.gmf_labels)\n",
    "    plt.title(f\"{combination[0]} by {combination[1]} Cluster vs. Outliers\")\n",
    "    plt.show()\n"
   ]
  }
 ],
 "metadata": {
  "kernelspec": {
   "display_name": "Python 3 (ipykernel)",
   "language": "python",
   "name": "python3"
  },
  "language_info": {
   "codemirror_mode": {
    "name": "ipython",
    "version": 3
   },
   "file_extension": ".py",
   "mimetype": "text/x-python",
   "name": "python",
   "nbconvert_exporter": "python",
   "pygments_lexer": "ipython3",
   "version": "3.10.12"
  }
 },
 "nbformat": 4,
 "nbformat_minor": 5
}
