{
 "cells": [
  {
   "cell_type": "markdown",
   "id": "0a23679a",
   "metadata": {},
   "source": [
    "# Lesson: Anomaly Detection - DENSITY-BASED CLUSTERING"
   ]
  },
  {
   "cell_type": "markdown",
   "id": "30439f36-6ef0-4480-adc9-26da1f5c2f75",
   "metadata": {},
   "source": [
    "<hr style=\"border:2px solid gray\">\n",
    "\n",
    "- Assumption: Data points that are similar tend to belong to similar groups or clusters, as determined by their distance from local centroids. Normal data points occur around a dense neighborhood and abnormalities are far away.\n",
    "\n",
    "- Using density based clustering, like DBSCAN, we can design the model such that the data points that do not fall into a cluster are the anomalies."
   ]
  },
  {
   "cell_type": "markdown",
   "id": "7cacc719-9bca-4d7a-9930-f8a0da58a3c8",
   "metadata": {},
   "source": [
    "# Steps\n",
    "1. Select variables you want to cluster: \n",
    "> `df = df[[\"col1\", \"col2\"]]`\n",
    "\n",
    "2. Convert to array & dtype float: \n",
    "> `np_array = df.values.astype(\"float32\", copy = False)`\n",
    "\n",
    "3. Scale to standard normal:\n",
    "> `scaler = StandardScaler().fit(np_array) np_array = scaler.transform(np_array)`\n",
    "\n",
    "4. Create DBSCAN object and fit: \n",
    "> `dbsc = DBSCAN(eps = .75, min_samples = 15).fit(np_array)`\n",
    "\n",
    "5. Extract labels: \n",
    "> `labels = dbsc.labels_`\n",
    "\n",
    "6. Add labels back to original dataframe:\n",
    "> `df['labels'] = labels`\n",
    "\n",
    "7. Explore:\n",
    "> `df.labels.value_counts() sns.scatterplot(df.col1, df.col2, hue=df.labels)`"
   ]
  },
  {
   "cell_type": "code",
   "execution_count": 164,
   "id": "c1925265-c037-42c3-abc9-2a53ebfb2a54",
   "metadata": {},
   "outputs": [],
   "source": [
    "import warnings\n",
    "warnings.filterwarnings(\"ignore\")\n",
    "\n",
    "import matplotlib.pyplot as plt\n",
    "import seaborn as sns\n",
    "import numpy as np\n",
    "import pandas as pd\n",
    "import os\n",
    "import itertools\n",
    "\n",
    "# DBSCAN import\n",
    "from sklearn.cluster import DBSCAN\n",
    "\n",
    "# Scaler import\n",
    "from sklearn.preprocessing import MinMaxScaler\n"
   ]
  },
  {
   "cell_type": "markdown",
   "id": "a4e58be5-b244-4e2c-88d0-b43dfb456b2b",
   "metadata": {},
   "source": [
    "# Acquire"
   ]
  },
  {
   "cell_type": "code",
   "execution_count": 165,
   "id": "46fe2840-3558-45c6-8eb7-c440626b533f",
   "metadata": {
    "tags": []
   },
   "outputs": [],
   "source": [
    "def get_connection_url(db, username=os.getenv('sqlUSER'), host=os.getenv('sqlHOST'), password=os.getenv('sqlPSWD')):\n",
    "    \"\"\"\n",
    "    This function will:\n",
    "    - take username, pswd, host credentials from imported env module\n",
    "    - output a formatted connection_url\n",
    "    \"\"\"\n",
    "    return f'mysql+pymysql://{username}:{password}@{host}/{db}'\n"
   ]
  },
  {
   "cell_type": "code",
   "execution_count": 166,
   "id": "8becaedd-f1c7-4420-83f4-b272d2a68b9d",
   "metadata": {},
   "outputs": [],
   "source": [
    "from env import host, user, password\n",
    "\n",
    "def get_connection_url(database, host=host, user=user, password=password):\n",
    "    return f'mysql+pymysql://{user}:{password}@{host}/{database}'"
   ]
  },
  {
   "cell_type": "code",
   "execution_count": 167,
   "id": "f496b7ab-afaf-42a1-9656-c838be70e511",
   "metadata": {},
   "outputs": [
    {
     "data": {
      "text/html": [
       "<div>\n",
       "<style scoped>\n",
       "    .dataframe tbody tr th:only-of-type {\n",
       "        vertical-align: middle;\n",
       "    }\n",
       "\n",
       "    .dataframe tbody tr th {\n",
       "        vertical-align: top;\n",
       "    }\n",
       "\n",
       "    .dataframe thead th {\n",
       "        text-align: right;\n",
       "    }\n",
       "</style>\n",
       "<table border=\"1\" class=\"dataframe\">\n",
       "  <thead>\n",
       "    <tr style=\"text-align: right;\">\n",
       "      <th></th>\n",
       "      <th>Channel</th>\n",
       "      <th>Region</th>\n",
       "      <th>Fresh</th>\n",
       "      <th>Milk</th>\n",
       "      <th>Grocery</th>\n",
       "      <th>Frozen</th>\n",
       "      <th>Detergents_Paper</th>\n",
       "      <th>Delicassen</th>\n",
       "    </tr>\n",
       "    <tr>\n",
       "      <th>customer_id</th>\n",
       "      <th></th>\n",
       "      <th></th>\n",
       "      <th></th>\n",
       "      <th></th>\n",
       "      <th></th>\n",
       "      <th></th>\n",
       "      <th></th>\n",
       "      <th></th>\n",
       "    </tr>\n",
       "  </thead>\n",
       "  <tbody>\n",
       "    <tr>\n",
       "      <th>0</th>\n",
       "      <td>2</td>\n",
       "      <td>3</td>\n",
       "      <td>12669</td>\n",
       "      <td>9656</td>\n",
       "      <td>7561</td>\n",
       "      <td>214</td>\n",
       "      <td>2674</td>\n",
       "      <td>1338</td>\n",
       "    </tr>\n",
       "    <tr>\n",
       "      <th>1</th>\n",
       "      <td>2</td>\n",
       "      <td>3</td>\n",
       "      <td>7057</td>\n",
       "      <td>9810</td>\n",
       "      <td>9568</td>\n",
       "      <td>1762</td>\n",
       "      <td>3293</td>\n",
       "      <td>1776</td>\n",
       "    </tr>\n",
       "    <tr>\n",
       "      <th>2</th>\n",
       "      <td>2</td>\n",
       "      <td>3</td>\n",
       "      <td>6353</td>\n",
       "      <td>8808</td>\n",
       "      <td>7684</td>\n",
       "      <td>2405</td>\n",
       "      <td>3516</td>\n",
       "      <td>7844</td>\n",
       "    </tr>\n",
       "    <tr>\n",
       "      <th>3</th>\n",
       "      <td>1</td>\n",
       "      <td>3</td>\n",
       "      <td>13265</td>\n",
       "      <td>1196</td>\n",
       "      <td>4221</td>\n",
       "      <td>6404</td>\n",
       "      <td>507</td>\n",
       "      <td>1788</td>\n",
       "    </tr>\n",
       "    <tr>\n",
       "      <th>4</th>\n",
       "      <td>2</td>\n",
       "      <td>3</td>\n",
       "      <td>22615</td>\n",
       "      <td>5410</td>\n",
       "      <td>7198</td>\n",
       "      <td>3915</td>\n",
       "      <td>1777</td>\n",
       "      <td>5185</td>\n",
       "    </tr>\n",
       "  </tbody>\n",
       "</table>\n",
       "</div>"
      ],
      "text/plain": [
       "             Channel  Region  Fresh  Milk  Grocery  Frozen  Detergents_Paper  \\\n",
       "customer_id                                                                    \n",
       "0                  2       3  12669  9656     7561     214              2674   \n",
       "1                  2       3   7057  9810     9568    1762              3293   \n",
       "2                  2       3   6353  8808     7684    2405              3516   \n",
       "3                  1       3  13265  1196     4221    6404               507   \n",
       "4                  2       3  22615  5410     7198    3915              1777   \n",
       "\n",
       "             Delicassen  \n",
       "customer_id              \n",
       "0                  1338  \n",
       "1                  1776  \n",
       "2                  7844  \n",
       "3                  1788  \n",
       "4                  5185  "
      ]
     },
     "execution_count": 167,
     "metadata": {},
     "output_type": "execute_result"
    }
   ],
   "source": [
    "url = get_connection_url(\"grocery_db\")\n",
    "\n",
    "sql = \"\"\"\n",
    "select *\n",
    "from grocery_customers\n",
    "\"\"\"\n",
    "\n",
    "df = pd.read_sql(sql, url, index_col=\"customer_id\")\n",
    "df.head()"
   ]
  },
  {
   "cell_type": "code",
   "execution_count": 168,
   "id": "cb88faad-666d-4391-aa72-eac326fa198f",
   "metadata": {},
   "outputs": [
    {
     "name": "stdout",
     "output_type": "stream",
     "text": [
      "<class 'pandas.core.frame.DataFrame'>\n",
      "Int64Index: 440 entries, 0 to 439\n",
      "Data columns (total 8 columns):\n",
      " #   Column            Non-Null Count  Dtype\n",
      "---  ------            --------------  -----\n",
      " 0   Channel           440 non-null    int64\n",
      " 1   Region            440 non-null    int64\n",
      " 2   Fresh             440 non-null    int64\n",
      " 3   Milk              440 non-null    int64\n",
      " 4   Grocery           440 non-null    int64\n",
      " 5   Frozen            440 non-null    int64\n",
      " 6   Detergents_Paper  440 non-null    int64\n",
      " 7   Delicassen        440 non-null    int64\n",
      "dtypes: int64(8)\n",
      "memory usage: 30.9 KB\n"
     ]
    }
   ],
   "source": [
    "df.info()"
   ]
  },
  {
   "cell_type": "markdown",
   "id": "994cc40a-fd3a-46bd-aaa9-2f3591010031",
   "metadata": {},
   "source": [
    "___\n",
    "\n",
    "# Follow the Steps\n",
    "\n",
    "# Step 1: Select variables you want to cluster"
   ]
  },
  {
   "cell_type": "code",
   "execution_count": 169,
   "id": "bc073aa6-c784-4e5b-b148-f8f5cb29a7fc",
   "metadata": {},
   "outputs": [
    {
     "data": {
      "text/html": [
       "<div>\n",
       "<style scoped>\n",
       "    .dataframe tbody tr th:only-of-type {\n",
       "        vertical-align: middle;\n",
       "    }\n",
       "\n",
       "    .dataframe tbody tr th {\n",
       "        vertical-align: top;\n",
       "    }\n",
       "\n",
       "    .dataframe thead th {\n",
       "        text-align: right;\n",
       "    }\n",
       "</style>\n",
       "<table border=\"1\" class=\"dataframe\">\n",
       "  <thead>\n",
       "    <tr style=\"text-align: right;\">\n",
       "      <th></th>\n",
       "      <th>Grocery</th>\n",
       "      <th>Milk</th>\n",
       "      <th>Fresh</th>\n",
       "    </tr>\n",
       "    <tr>\n",
       "      <th>customer_id</th>\n",
       "      <th></th>\n",
       "      <th></th>\n",
       "      <th></th>\n",
       "    </tr>\n",
       "  </thead>\n",
       "  <tbody>\n",
       "    <tr>\n",
       "      <th>0</th>\n",
       "      <td>7561</td>\n",
       "      <td>9656</td>\n",
       "      <td>12669</td>\n",
       "    </tr>\n",
       "    <tr>\n",
       "      <th>1</th>\n",
       "      <td>9568</td>\n",
       "      <td>9810</td>\n",
       "      <td>7057</td>\n",
       "    </tr>\n",
       "    <tr>\n",
       "      <th>2</th>\n",
       "      <td>7684</td>\n",
       "      <td>8808</td>\n",
       "      <td>6353</td>\n",
       "    </tr>\n",
       "    <tr>\n",
       "      <th>3</th>\n",
       "      <td>4221</td>\n",
       "      <td>1196</td>\n",
       "      <td>13265</td>\n",
       "    </tr>\n",
       "    <tr>\n",
       "      <th>4</th>\n",
       "      <td>7198</td>\n",
       "      <td>5410</td>\n",
       "      <td>22615</td>\n",
       "    </tr>\n",
       "  </tbody>\n",
       "</table>\n",
       "</div>"
      ],
      "text/plain": [
       "             Grocery  Milk  Fresh\n",
       "customer_id                      \n",
       "0               7561  9656  12669\n",
       "1               9568  9810   7057\n",
       "2               7684  8808   6353\n",
       "3               4221  1196  13265\n",
       "4               7198  5410  22615"
      ]
     },
     "execution_count": 169,
     "metadata": {},
     "output_type": "execute_result"
    }
   ],
   "source": [
    "# Cluster on all or a selected subset of features\n",
    "grocery_milk_fresh = df[['Grocery', 'Milk', 'Fresh']]\n",
    "grocery_milk_fresh.head()"
   ]
  },
  {
   "cell_type": "markdown",
   "id": "9a762b94-6a2f-4362-aba8-02134c3092d6",
   "metadata": {},
   "source": [
    "# Step 2: Convert to array & dtype float"
   ]
  },
  {
   "cell_type": "code",
   "execution_count": 170,
   "id": "d9705f68-14b6-4683-a1fb-acd1cf572921",
   "metadata": {},
   "outputs": [
    {
     "name": "stdout",
     "output_type": "stream",
     "text": [
      "<class 'pandas.core.frame.DataFrame'>\n",
      "Int64Index: 440 entries, 0 to 439\n",
      "Data columns (total 8 columns):\n",
      " #   Column            Non-Null Count  Dtype\n",
      "---  ------            --------------  -----\n",
      " 0   Channel           440 non-null    int64\n",
      " 1   Region            440 non-null    int64\n",
      " 2   Fresh             440 non-null    int64\n",
      " 3   Milk              440 non-null    int64\n",
      " 4   Grocery           440 non-null    int64\n",
      " 5   Frozen            440 non-null    int64\n",
      " 6   Detergents_Paper  440 non-null    int64\n",
      " 7   Delicassen        440 non-null    int64\n",
      "dtypes: int64(8)\n",
      "memory usage: 30.9 KB\n"
     ]
    }
   ],
   "source": [
    "df.info()"
   ]
  },
  {
   "cell_type": "code",
   "execution_count": 171,
   "id": "c0c52879-c075-4549-83fb-2668e0b6a06b",
   "metadata": {},
   "outputs": [
    {
     "data": {
      "text/plain": [
       "Grocery     7561\n",
       "Milk        9656\n",
       "Fresh      12669\n",
       "Name: 0, dtype: int64"
      ]
     },
     "execution_count": 171,
     "metadata": {},
     "output_type": "execute_result"
    }
   ],
   "source": [
    "grocery_milk_fresh.iloc[0]"
   ]
  },
  {
   "cell_type": "code",
   "execution_count": 172,
   "id": "73e03d1d-c775-4f3c-a800-fe5ee92dddc6",
   "metadata": {},
   "outputs": [
    {
     "data": {
      "text/plain": [
       "array([ 7561.,  9656., 12669.], dtype=float32)"
      ]
     },
     "execution_count": 172,
     "metadata": {},
     "output_type": "execute_result"
    }
   ],
   "source": [
    "grocery_milk_fresh.values.astype(\"float32\", copy=False)[0]"
   ]
  },
  {
   "cell_type": "code",
   "execution_count": 173,
   "id": "2a1d7f73-2c35-4463-bde0-72d185d2011a",
   "metadata": {},
   "outputs": [],
   "source": [
    "#convert to an array and turn into float\n",
    "np_array = grocery_milk_fresh.values.astype(\"float32\", copy=False)"
   ]
  },
  {
   "cell_type": "markdown",
   "id": "c02db0cf-3f29-4b55-a594-875b8d131131",
   "metadata": {},
   "source": [
    "# Step 3: Scale to standard normal"
   ]
  },
  {
   "cell_type": "code",
   "execution_count": 174,
   "id": "02bce881-1ed9-4029-bb67-cdb4394ce99a",
   "metadata": {},
   "outputs": [
    {
     "data": {
      "text/plain": [
       "array([[0.08146416, 0.13072723, 0.11294005],\n",
       "       [0.10309667, 0.13282411, 0.06289903],\n",
       "       [0.08278991, 0.11918086, 0.05662161],\n",
       "       ...,\n",
       "       [0.32594284, 0.21013576, 0.12954311],\n",
       "       [0.02402535, 0.02622442, 0.09172701],\n",
       "       [0.02702178, 0.02237109, 0.02482434]], dtype=float32)"
      ]
     },
     "execution_count": 174,
     "metadata": {},
     "output_type": "execute_result"
    }
   ],
   "source": [
    "# MAKE the scaler\n",
    "mms = MinMaxScaler()\n",
    "\n",
    "# FIT/transform the scaler\n",
    "gmf_scaled = mms.fit_transform(np_array)\n",
    "\n",
    "gmf_scaled"
   ]
  },
  {
   "cell_type": "code",
   "execution_count": 175,
   "id": "fe6130e0-f225-4f35-9952-e3232244266f",
   "metadata": {},
   "outputs": [
    {
     "data": {
      "text/plain": [
       "Index(['Grocery', 'Milk', 'Fresh'], dtype='object')"
      ]
     },
     "execution_count": 175,
     "metadata": {},
     "output_type": "execute_result"
    }
   ],
   "source": [
    "grocery_milk_fresh.columns"
   ]
  },
  {
   "cell_type": "code",
   "execution_count": 176,
   "id": "38f4de3a-c618-4572-ba13-a19ed4d1c89c",
   "metadata": {},
   "outputs": [
    {
     "data": {
      "text/plain": [
       "['Scaled_Grocery', 'Scaled_Milk', 'Scaled_Fresh']"
      ]
     },
     "execution_count": 176,
     "metadata": {},
     "output_type": "execute_result"
    }
   ],
   "source": [
    "[\"Scaled_\"+column for column in grocery_milk_fresh.columns]"
   ]
  },
  {
   "cell_type": "code",
   "execution_count": 177,
   "id": "c9273a3a-95e4-48c5-887d-1914bfdb13a8",
   "metadata": {},
   "outputs": [],
   "source": [
    "# Now, let's add the scaled value columns back onto the dataframe\n",
    "scaled_columns = [\"Scaled_\"+column for column in grocery_milk_fresh.columns]"
   ]
  },
  {
   "cell_type": "code",
   "execution_count": 178,
   "id": "8067d76f-52e2-4fdf-9f54-546a11dfd004",
   "metadata": {},
   "outputs": [],
   "source": [
    "# Save a copy of the original dataframe\n",
    "original_df = df.copy()"
   ]
  },
  {
   "cell_type": "code",
   "execution_count": 179,
   "id": "8eaa1459-7c9a-4478-b48e-9d363a2e6eba",
   "metadata": {},
   "outputs": [],
   "source": [
    "# Create a dataframe containing the scaled array of values\n",
    "scaled_df = pd.DataFrame(gmf_scaled, columns=scaled_columns)"
   ]
  },
  {
   "cell_type": "code",
   "execution_count": 180,
   "id": "fe2fcd2b-dd01-4fbf-a715-bb2809b0070f",
   "metadata": {},
   "outputs": [
    {
     "data": {
      "text/html": [
       "<div>\n",
       "<style scoped>\n",
       "    .dataframe tbody tr th:only-of-type {\n",
       "        vertical-align: middle;\n",
       "    }\n",
       "\n",
       "    .dataframe tbody tr th {\n",
       "        vertical-align: top;\n",
       "    }\n",
       "\n",
       "    .dataframe thead th {\n",
       "        text-align: right;\n",
       "    }\n",
       "</style>\n",
       "<table border=\"1\" class=\"dataframe\">\n",
       "  <thead>\n",
       "    <tr style=\"text-align: right;\">\n",
       "      <th></th>\n",
       "      <th>Scaled_Grocery</th>\n",
       "      <th>Scaled_Milk</th>\n",
       "      <th>Scaled_Fresh</th>\n",
       "    </tr>\n",
       "  </thead>\n",
       "  <tbody>\n",
       "    <tr>\n",
       "      <th>0</th>\n",
       "      <td>0.081464</td>\n",
       "      <td>0.130727</td>\n",
       "      <td>0.112940</td>\n",
       "    </tr>\n",
       "    <tr>\n",
       "      <th>1</th>\n",
       "      <td>0.103097</td>\n",
       "      <td>0.132824</td>\n",
       "      <td>0.062899</td>\n",
       "    </tr>\n",
       "    <tr>\n",
       "      <th>2</th>\n",
       "      <td>0.082790</td>\n",
       "      <td>0.119181</td>\n",
       "      <td>0.056622</td>\n",
       "    </tr>\n",
       "    <tr>\n",
       "      <th>3</th>\n",
       "      <td>0.045464</td>\n",
       "      <td>0.015536</td>\n",
       "      <td>0.118254</td>\n",
       "    </tr>\n",
       "    <tr>\n",
       "      <th>4</th>\n",
       "      <td>0.077552</td>\n",
       "      <td>0.072914</td>\n",
       "      <td>0.201626</td>\n",
       "    </tr>\n",
       "    <tr>\n",
       "      <th>...</th>\n",
       "      <td>...</td>\n",
       "      <td>...</td>\n",
       "      <td>...</td>\n",
       "    </tr>\n",
       "    <tr>\n",
       "      <th>435</th>\n",
       "      <td>0.172715</td>\n",
       "      <td>0.163338</td>\n",
       "      <td>0.264829</td>\n",
       "    </tr>\n",
       "    <tr>\n",
       "      <th>436</th>\n",
       "      <td>0.008202</td>\n",
       "      <td>0.018736</td>\n",
       "      <td>0.349761</td>\n",
       "    </tr>\n",
       "    <tr>\n",
       "      <th>437</th>\n",
       "      <td>0.325943</td>\n",
       "      <td>0.210136</td>\n",
       "      <td>0.129543</td>\n",
       "    </tr>\n",
       "    <tr>\n",
       "      <th>438</th>\n",
       "      <td>0.024025</td>\n",
       "      <td>0.026224</td>\n",
       "      <td>0.091727</td>\n",
       "    </tr>\n",
       "    <tr>\n",
       "      <th>439</th>\n",
       "      <td>0.027022</td>\n",
       "      <td>0.022371</td>\n",
       "      <td>0.024824</td>\n",
       "    </tr>\n",
       "  </tbody>\n",
       "</table>\n",
       "<p>440 rows × 3 columns</p>\n",
       "</div>"
      ],
      "text/plain": [
       "     Scaled_Grocery  Scaled_Milk  Scaled_Fresh\n",
       "0          0.081464     0.130727      0.112940\n",
       "1          0.103097     0.132824      0.062899\n",
       "2          0.082790     0.119181      0.056622\n",
       "3          0.045464     0.015536      0.118254\n",
       "4          0.077552     0.072914      0.201626\n",
       "..              ...          ...           ...\n",
       "435        0.172715     0.163338      0.264829\n",
       "436        0.008202     0.018736      0.349761\n",
       "437        0.325943     0.210136      0.129543\n",
       "438        0.024025     0.026224      0.091727\n",
       "439        0.027022     0.022371      0.024824\n",
       "\n",
       "[440 rows x 3 columns]"
      ]
     },
     "execution_count": 180,
     "metadata": {},
     "output_type": "execute_result"
    }
   ],
   "source": [
    "scaled_df"
   ]
  },
  {
   "cell_type": "code",
   "execution_count": 181,
   "id": "0d8de6f1-83b6-45bc-87f6-ae43e9985975",
   "metadata": {},
   "outputs": [
    {
     "data": {
      "text/html": [
       "<div>\n",
       "<style scoped>\n",
       "    .dataframe tbody tr th:only-of-type {\n",
       "        vertical-align: middle;\n",
       "    }\n",
       "\n",
       "    .dataframe tbody tr th {\n",
       "        vertical-align: top;\n",
       "    }\n",
       "\n",
       "    .dataframe thead th {\n",
       "        text-align: right;\n",
       "    }\n",
       "</style>\n",
       "<table border=\"1\" class=\"dataframe\">\n",
       "  <thead>\n",
       "    <tr style=\"text-align: right;\">\n",
       "      <th></th>\n",
       "      <th>key_0</th>\n",
       "      <th>Channel</th>\n",
       "      <th>Region</th>\n",
       "      <th>Fresh</th>\n",
       "      <th>Milk</th>\n",
       "      <th>Grocery</th>\n",
       "      <th>Frozen</th>\n",
       "      <th>Detergents_Paper</th>\n",
       "      <th>Delicassen</th>\n",
       "      <th>Scaled_Grocery</th>\n",
       "      <th>Scaled_Milk</th>\n",
       "      <th>Scaled_Fresh</th>\n",
       "    </tr>\n",
       "  </thead>\n",
       "  <tbody>\n",
       "    <tr>\n",
       "      <th>0</th>\n",
       "      <td>0</td>\n",
       "      <td>2</td>\n",
       "      <td>3</td>\n",
       "      <td>12669</td>\n",
       "      <td>9656</td>\n",
       "      <td>7561</td>\n",
       "      <td>214</td>\n",
       "      <td>2674</td>\n",
       "      <td>1338</td>\n",
       "      <td>0.081464</td>\n",
       "      <td>0.130727</td>\n",
       "      <td>0.112940</td>\n",
       "    </tr>\n",
       "    <tr>\n",
       "      <th>1</th>\n",
       "      <td>1</td>\n",
       "      <td>2</td>\n",
       "      <td>3</td>\n",
       "      <td>7057</td>\n",
       "      <td>9810</td>\n",
       "      <td>9568</td>\n",
       "      <td>1762</td>\n",
       "      <td>3293</td>\n",
       "      <td>1776</td>\n",
       "      <td>0.103097</td>\n",
       "      <td>0.132824</td>\n",
       "      <td>0.062899</td>\n",
       "    </tr>\n",
       "    <tr>\n",
       "      <th>2</th>\n",
       "      <td>2</td>\n",
       "      <td>2</td>\n",
       "      <td>3</td>\n",
       "      <td>6353</td>\n",
       "      <td>8808</td>\n",
       "      <td>7684</td>\n",
       "      <td>2405</td>\n",
       "      <td>3516</td>\n",
       "      <td>7844</td>\n",
       "      <td>0.082790</td>\n",
       "      <td>0.119181</td>\n",
       "      <td>0.056622</td>\n",
       "    </tr>\n",
       "    <tr>\n",
       "      <th>3</th>\n",
       "      <td>3</td>\n",
       "      <td>1</td>\n",
       "      <td>3</td>\n",
       "      <td>13265</td>\n",
       "      <td>1196</td>\n",
       "      <td>4221</td>\n",
       "      <td>6404</td>\n",
       "      <td>507</td>\n",
       "      <td>1788</td>\n",
       "      <td>0.045464</td>\n",
       "      <td>0.015536</td>\n",
       "      <td>0.118254</td>\n",
       "    </tr>\n",
       "    <tr>\n",
       "      <th>4</th>\n",
       "      <td>4</td>\n",
       "      <td>2</td>\n",
       "      <td>3</td>\n",
       "      <td>22615</td>\n",
       "      <td>5410</td>\n",
       "      <td>7198</td>\n",
       "      <td>3915</td>\n",
       "      <td>1777</td>\n",
       "      <td>5185</td>\n",
       "      <td>0.077552</td>\n",
       "      <td>0.072914</td>\n",
       "      <td>0.201626</td>\n",
       "    </tr>\n",
       "    <tr>\n",
       "      <th>...</th>\n",
       "      <td>...</td>\n",
       "      <td>...</td>\n",
       "      <td>...</td>\n",
       "      <td>...</td>\n",
       "      <td>...</td>\n",
       "      <td>...</td>\n",
       "      <td>...</td>\n",
       "      <td>...</td>\n",
       "      <td>...</td>\n",
       "      <td>...</td>\n",
       "      <td>...</td>\n",
       "      <td>...</td>\n",
       "    </tr>\n",
       "    <tr>\n",
       "      <th>435</th>\n",
       "      <td>435</td>\n",
       "      <td>1</td>\n",
       "      <td>3</td>\n",
       "      <td>29703</td>\n",
       "      <td>12051</td>\n",
       "      <td>16027</td>\n",
       "      <td>13135</td>\n",
       "      <td>182</td>\n",
       "      <td>2204</td>\n",
       "      <td>0.172715</td>\n",
       "      <td>0.163338</td>\n",
       "      <td>0.264829</td>\n",
       "    </tr>\n",
       "    <tr>\n",
       "      <th>436</th>\n",
       "      <td>436</td>\n",
       "      <td>1</td>\n",
       "      <td>3</td>\n",
       "      <td>39228</td>\n",
       "      <td>1431</td>\n",
       "      <td>764</td>\n",
       "      <td>4510</td>\n",
       "      <td>93</td>\n",
       "      <td>2346</td>\n",
       "      <td>0.008202</td>\n",
       "      <td>0.018736</td>\n",
       "      <td>0.349761</td>\n",
       "    </tr>\n",
       "    <tr>\n",
       "      <th>437</th>\n",
       "      <td>437</td>\n",
       "      <td>2</td>\n",
       "      <td>3</td>\n",
       "      <td>14531</td>\n",
       "      <td>15488</td>\n",
       "      <td>30243</td>\n",
       "      <td>437</td>\n",
       "      <td>14841</td>\n",
       "      <td>1867</td>\n",
       "      <td>0.325943</td>\n",
       "      <td>0.210136</td>\n",
       "      <td>0.129543</td>\n",
       "    </tr>\n",
       "    <tr>\n",
       "      <th>438</th>\n",
       "      <td>438</td>\n",
       "      <td>1</td>\n",
       "      <td>3</td>\n",
       "      <td>10290</td>\n",
       "      <td>1981</td>\n",
       "      <td>2232</td>\n",
       "      <td>1038</td>\n",
       "      <td>168</td>\n",
       "      <td>2125</td>\n",
       "      <td>0.024025</td>\n",
       "      <td>0.026224</td>\n",
       "      <td>0.091727</td>\n",
       "    </tr>\n",
       "    <tr>\n",
       "      <th>439</th>\n",
       "      <td>439</td>\n",
       "      <td>1</td>\n",
       "      <td>3</td>\n",
       "      <td>2787</td>\n",
       "      <td>1698</td>\n",
       "      <td>2510</td>\n",
       "      <td>65</td>\n",
       "      <td>477</td>\n",
       "      <td>52</td>\n",
       "      <td>0.027022</td>\n",
       "      <td>0.022371</td>\n",
       "      <td>0.024824</td>\n",
       "    </tr>\n",
       "  </tbody>\n",
       "</table>\n",
       "<p>440 rows × 12 columns</p>\n",
       "</div>"
      ],
      "text/plain": [
       "     key_0  Channel  Region  Fresh   Milk  Grocery  Frozen  Detergents_Paper  \\\n",
       "0        0        2       3  12669   9656     7561     214              2674   \n",
       "1        1        2       3   7057   9810     9568    1762              3293   \n",
       "2        2        2       3   6353   8808     7684    2405              3516   \n",
       "3        3        1       3  13265   1196     4221    6404               507   \n",
       "4        4        2       3  22615   5410     7198    3915              1777   \n",
       "..     ...      ...     ...    ...    ...      ...     ...               ...   \n",
       "435    435        1       3  29703  12051    16027   13135               182   \n",
       "436    436        1       3  39228   1431      764    4510                93   \n",
       "437    437        2       3  14531  15488    30243     437             14841   \n",
       "438    438        1       3  10290   1981     2232    1038               168   \n",
       "439    439        1       3   2787   1698     2510      65               477   \n",
       "\n",
       "     Delicassen  Scaled_Grocery  Scaled_Milk  Scaled_Fresh  \n",
       "0          1338        0.081464     0.130727      0.112940  \n",
       "1          1776        0.103097     0.132824      0.062899  \n",
       "2          7844        0.082790     0.119181      0.056622  \n",
       "3          1788        0.045464     0.015536      0.118254  \n",
       "4          5185        0.077552     0.072914      0.201626  \n",
       "..          ...             ...          ...           ...  \n",
       "435        2204        0.172715     0.163338      0.264829  \n",
       "436        2346        0.008202     0.018736      0.349761  \n",
       "437        1867        0.325943     0.210136      0.129543  \n",
       "438        2125        0.024025     0.026224      0.091727  \n",
       "439          52        0.027022     0.022371      0.024824  \n",
       "\n",
       "[440 rows x 12 columns]"
      ]
     },
     "execution_count": 181,
     "metadata": {},
     "output_type": "execute_result"
    }
   ],
   "source": [
    "df.merge(scaled_df, on=df.index)"
   ]
  },
  {
   "cell_type": "code",
   "execution_count": 182,
   "id": "420c26ac-5342-4e53-9649-ab7fc7cebb55",
   "metadata": {},
   "outputs": [],
   "source": [
    "# Merge the scaled and non-scaled values into one dataframe\n",
    "df = df.merge(scaled_df, on=df.index)\n",
    "df = df.drop(columns=['key_0'])"
   ]
  },
  {
   "cell_type": "code",
   "execution_count": 183,
   "id": "e54366d6-d032-4e97-b99a-be562fd6d4e9",
   "metadata": {},
   "outputs": [
    {
     "data": {
      "text/html": [
       "<div>\n",
       "<style scoped>\n",
       "    .dataframe tbody tr th:only-of-type {\n",
       "        vertical-align: middle;\n",
       "    }\n",
       "\n",
       "    .dataframe tbody tr th {\n",
       "        vertical-align: top;\n",
       "    }\n",
       "\n",
       "    .dataframe thead th {\n",
       "        text-align: right;\n",
       "    }\n",
       "</style>\n",
       "<table border=\"1\" class=\"dataframe\">\n",
       "  <thead>\n",
       "    <tr style=\"text-align: right;\">\n",
       "      <th></th>\n",
       "      <th>Channel</th>\n",
       "      <th>Region</th>\n",
       "      <th>Fresh</th>\n",
       "      <th>Milk</th>\n",
       "      <th>Grocery</th>\n",
       "      <th>Frozen</th>\n",
       "      <th>Detergents_Paper</th>\n",
       "      <th>Delicassen</th>\n",
       "      <th>Scaled_Grocery</th>\n",
       "      <th>Scaled_Milk</th>\n",
       "      <th>Scaled_Fresh</th>\n",
       "    </tr>\n",
       "  </thead>\n",
       "  <tbody>\n",
       "    <tr>\n",
       "      <th>0</th>\n",
       "      <td>2</td>\n",
       "      <td>3</td>\n",
       "      <td>12669</td>\n",
       "      <td>9656</td>\n",
       "      <td>7561</td>\n",
       "      <td>214</td>\n",
       "      <td>2674</td>\n",
       "      <td>1338</td>\n",
       "      <td>0.081464</td>\n",
       "      <td>0.130727</td>\n",
       "      <td>0.112940</td>\n",
       "    </tr>\n",
       "    <tr>\n",
       "      <th>1</th>\n",
       "      <td>2</td>\n",
       "      <td>3</td>\n",
       "      <td>7057</td>\n",
       "      <td>9810</td>\n",
       "      <td>9568</td>\n",
       "      <td>1762</td>\n",
       "      <td>3293</td>\n",
       "      <td>1776</td>\n",
       "      <td>0.103097</td>\n",
       "      <td>0.132824</td>\n",
       "      <td>0.062899</td>\n",
       "    </tr>\n",
       "    <tr>\n",
       "      <th>2</th>\n",
       "      <td>2</td>\n",
       "      <td>3</td>\n",
       "      <td>6353</td>\n",
       "      <td>8808</td>\n",
       "      <td>7684</td>\n",
       "      <td>2405</td>\n",
       "      <td>3516</td>\n",
       "      <td>7844</td>\n",
       "      <td>0.082790</td>\n",
       "      <td>0.119181</td>\n",
       "      <td>0.056622</td>\n",
       "    </tr>\n",
       "    <tr>\n",
       "      <th>3</th>\n",
       "      <td>1</td>\n",
       "      <td>3</td>\n",
       "      <td>13265</td>\n",
       "      <td>1196</td>\n",
       "      <td>4221</td>\n",
       "      <td>6404</td>\n",
       "      <td>507</td>\n",
       "      <td>1788</td>\n",
       "      <td>0.045464</td>\n",
       "      <td>0.015536</td>\n",
       "      <td>0.118254</td>\n",
       "    </tr>\n",
       "    <tr>\n",
       "      <th>4</th>\n",
       "      <td>2</td>\n",
       "      <td>3</td>\n",
       "      <td>22615</td>\n",
       "      <td>5410</td>\n",
       "      <td>7198</td>\n",
       "      <td>3915</td>\n",
       "      <td>1777</td>\n",
       "      <td>5185</td>\n",
       "      <td>0.077552</td>\n",
       "      <td>0.072914</td>\n",
       "      <td>0.201626</td>\n",
       "    </tr>\n",
       "  </tbody>\n",
       "</table>\n",
       "</div>"
      ],
      "text/plain": [
       "   Channel  Region  Fresh  Milk  Grocery  Frozen  Detergents_Paper  \\\n",
       "0        2       3  12669  9656     7561     214              2674   \n",
       "1        2       3   7057  9810     9568    1762              3293   \n",
       "2        2       3   6353  8808     7684    2405              3516   \n",
       "3        1       3  13265  1196     4221    6404               507   \n",
       "4        2       3  22615  5410     7198    3915              1777   \n",
       "\n",
       "   Delicassen  Scaled_Grocery  Scaled_Milk  Scaled_Fresh  \n",
       "0        1338        0.081464     0.130727      0.112940  \n",
       "1        1776        0.103097     0.132824      0.062899  \n",
       "2        7844        0.082790     0.119181      0.056622  \n",
       "3        1788        0.045464     0.015536      0.118254  \n",
       "4        5185        0.077552     0.072914      0.201626  "
      ]
     },
     "execution_count": 183,
     "metadata": {},
     "output_type": "execute_result"
    }
   ],
   "source": [
    "df.head()"
   ]
  },
  {
   "cell_type": "markdown",
   "id": "a9d74bc3-a2ce-494f-8920-77f10c5e2d40",
   "metadata": {},
   "source": [
    "# Step 4: Create <a href=\"https://scikit-learn.org/stable/modules/generated/sklearn.cluster.DBSCAN.html\">DBSCAN</a> object and fit"
   ]
  },
  {
   "cell_type": "markdown",
   "id": "243d5569-f108-4b07-af47-d29da5cb222f",
   "metadata": {},
   "source": [
    "#### Construct a DBSCAN object that requires a **minimum of 20 data points** in a neighborhood of **radius 0.1** to be considered a core point."
   ]
  },
  {
   "cell_type": "code",
   "execution_count": 184,
   "id": "5a730b20-869e-4bb3-92f6-18b685d51523",
   "metadata": {},
   "outputs": [
    {
     "data": {
      "text/html": [
       "<style>#sk-container-id-5 {color: black;}#sk-container-id-5 pre{padding: 0;}#sk-container-id-5 div.sk-toggleable {background-color: white;}#sk-container-id-5 label.sk-toggleable__label {cursor: pointer;display: block;width: 100%;margin-bottom: 0;padding: 0.3em;box-sizing: border-box;text-align: center;}#sk-container-id-5 label.sk-toggleable__label-arrow:before {content: \"▸\";float: left;margin-right: 0.25em;color: #696969;}#sk-container-id-5 label.sk-toggleable__label-arrow:hover:before {color: black;}#sk-container-id-5 div.sk-estimator:hover label.sk-toggleable__label-arrow:before {color: black;}#sk-container-id-5 div.sk-toggleable__content {max-height: 0;max-width: 0;overflow: hidden;text-align: left;background-color: #f0f8ff;}#sk-container-id-5 div.sk-toggleable__content pre {margin: 0.2em;color: black;border-radius: 0.25em;background-color: #f0f8ff;}#sk-container-id-5 input.sk-toggleable__control:checked~div.sk-toggleable__content {max-height: 200px;max-width: 100%;overflow: auto;}#sk-container-id-5 input.sk-toggleable__control:checked~label.sk-toggleable__label-arrow:before {content: \"▾\";}#sk-container-id-5 div.sk-estimator input.sk-toggleable__control:checked~label.sk-toggleable__label {background-color: #d4ebff;}#sk-container-id-5 div.sk-label input.sk-toggleable__control:checked~label.sk-toggleable__label {background-color: #d4ebff;}#sk-container-id-5 input.sk-hidden--visually {border: 0;clip: rect(1px 1px 1px 1px);clip: rect(1px, 1px, 1px, 1px);height: 1px;margin: -1px;overflow: hidden;padding: 0;position: absolute;width: 1px;}#sk-container-id-5 div.sk-estimator {font-family: monospace;background-color: #f0f8ff;border: 1px dotted black;border-radius: 0.25em;box-sizing: border-box;margin-bottom: 0.5em;}#sk-container-id-5 div.sk-estimator:hover {background-color: #d4ebff;}#sk-container-id-5 div.sk-parallel-item::after {content: \"\";width: 100%;border-bottom: 1px solid gray;flex-grow: 1;}#sk-container-id-5 div.sk-label:hover label.sk-toggleable__label {background-color: #d4ebff;}#sk-container-id-5 div.sk-serial::before {content: \"\";position: absolute;border-left: 1px solid gray;box-sizing: border-box;top: 0;bottom: 0;left: 50%;z-index: 0;}#sk-container-id-5 div.sk-serial {display: flex;flex-direction: column;align-items: center;background-color: white;padding-right: 0.2em;padding-left: 0.2em;position: relative;}#sk-container-id-5 div.sk-item {position: relative;z-index: 1;}#sk-container-id-5 div.sk-parallel {display: flex;align-items: stretch;justify-content: center;background-color: white;position: relative;}#sk-container-id-5 div.sk-item::before, #sk-container-id-5 div.sk-parallel-item::before {content: \"\";position: absolute;border-left: 1px solid gray;box-sizing: border-box;top: 0;bottom: 0;left: 50%;z-index: -1;}#sk-container-id-5 div.sk-parallel-item {display: flex;flex-direction: column;z-index: 1;position: relative;background-color: white;}#sk-container-id-5 div.sk-parallel-item:first-child::after {align-self: flex-end;width: 50%;}#sk-container-id-5 div.sk-parallel-item:last-child::after {align-self: flex-start;width: 50%;}#sk-container-id-5 div.sk-parallel-item:only-child::after {width: 0;}#sk-container-id-5 div.sk-dashed-wrapped {border: 1px dashed gray;margin: 0 0.4em 0.5em 0.4em;box-sizing: border-box;padding-bottom: 0.4em;background-color: white;}#sk-container-id-5 div.sk-label label {font-family: monospace;font-weight: bold;display: inline-block;line-height: 1.2em;}#sk-container-id-5 div.sk-label-container {text-align: center;}#sk-container-id-5 div.sk-container {/* jupyter's `normalize.less` sets `[hidden] { display: none; }` but bootstrap.min.css set `[hidden] { display: none !important; }` so we also need the `!important` here to be able to override the default hidden behavior on the sphinx rendered scikit-learn.org. See: https://github.com/scikit-learn/scikit-learn/issues/21755 */display: inline-block !important;position: relative;}#sk-container-id-5 div.sk-text-repr-fallback {display: none;}</style><div id=\"sk-container-id-5\" class=\"sk-top-container\"><div class=\"sk-text-repr-fallback\"><pre>DBSCAN(eps=0.2, min_samples=20)</pre><b>In a Jupyter environment, please rerun this cell to show the HTML representation or trust the notebook. <br />On GitHub, the HTML representation is unable to render, please try loading this page with nbviewer.org.</b></div><div class=\"sk-container\" hidden><div class=\"sk-item\"><div class=\"sk-estimator sk-toggleable\"><input class=\"sk-toggleable__control sk-hidden--visually\" id=\"sk-estimator-id-5\" type=\"checkbox\" checked><label for=\"sk-estimator-id-5\" class=\"sk-toggleable__label sk-toggleable__label-arrow\">DBSCAN</label><div class=\"sk-toggleable__content\"><pre>DBSCAN(eps=0.2, min_samples=20)</pre></div></div></div></div></div>"
      ],
      "text/plain": [
       "DBSCAN(eps=0.2, min_samples=20)"
      ]
     },
     "execution_count": 184,
     "metadata": {},
     "output_type": "execute_result"
    }
   ],
   "source": [
    "# Make the object\n",
    "dbsc = DBSCAN(eps = .2, min_samples=20)\n",
    "\n",
    "# Fit the object\n",
    "dbsc.fit(gmf_scaled)"
   ]
  },
  {
   "attachments": {
    "65df40c9-894e-451f-a1de-e661ed301709.png": {
     "image/png": "[encoded data removed]"
    }
   },
   "cell_type": "markdown",
   "id": "1543d6d4-c60e-4c53-b916-51d3c31abe9e",
   "metadata": {},
   "source": [
    "# Step 5: Extract labels\n",
    "\n",
    "\n",
    "**NOTE:**\n",
    "![image.png](attachment:65df40c9-894e-451f-a1de-e661ed301709.png)\n",
    "\n",
    "**Note NOTE:**\n",
    "Clusters will be identified as an index: `[0,1,2,3,...]`\n",
    "\n",
    "<a href = \"https://towardsdatascience.com/explaining-dbscan-clustering-18eaf5c83b31\">Interesting article</a> diving deeper into using DBSCAN to create clusters as well as identify anomalies."
   ]
  },
  {
   "cell_type": "code",
   "execution_count": 185,
   "id": "b5c4676b-2c46-4b63-8487-a0c5bfac503b",
   "metadata": {
    "scrolled": true,
    "tags": []
   },
   "outputs": [
    {
     "name": "stdout",
     "output_type": "stream",
     "text": [
      "432\n",
      "-8\n"
     ]
    }
   ],
   "source": [
    "print(440 + dbsc.labels_.sum())\n",
    "print(dbsc.labels_.sum())"
   ]
  },
  {
   "cell_type": "markdown",
   "id": "d0ff2a56-3a45-4a70-be00-1a2488ddb7c4",
   "metadata": {},
   "source": [
    "# Step 6: Add labels back to original dataframe"
   ]
  },
  {
   "cell_type": "code",
   "execution_count": 186,
   "id": "ef917505-091b-466b-936c-c9bd5f79b2b8",
   "metadata": {},
   "outputs": [],
   "source": [
    "# Assign the cluster labels\n",
    "df['gmf_labels'] = dbsc.labels_"
   ]
  },
  {
   "cell_type": "code",
   "execution_count": 187,
   "id": "cdfb8754",
   "metadata": {},
   "outputs": [
    {
     "data": {
      "text/html": [
       "<div>\n",
       "<style scoped>\n",
       "    .dataframe tbody tr th:only-of-type {\n",
       "        vertical-align: middle;\n",
       "    }\n",
       "\n",
       "    .dataframe tbody tr th {\n",
       "        vertical-align: top;\n",
       "    }\n",
       "\n",
       "    .dataframe thead th {\n",
       "        text-align: right;\n",
       "    }\n",
       "</style>\n",
       "<table border=\"1\" class=\"dataframe\">\n",
       "  <thead>\n",
       "    <tr style=\"text-align: right;\">\n",
       "      <th></th>\n",
       "      <th>Channel</th>\n",
       "      <th>Region</th>\n",
       "      <th>Fresh</th>\n",
       "      <th>Milk</th>\n",
       "      <th>Grocery</th>\n",
       "      <th>Frozen</th>\n",
       "      <th>Detergents_Paper</th>\n",
       "      <th>Delicassen</th>\n",
       "      <th>Scaled_Grocery</th>\n",
       "      <th>Scaled_Milk</th>\n",
       "      <th>Scaled_Fresh</th>\n",
       "      <th>gmf_labels</th>\n",
       "    </tr>\n",
       "  </thead>\n",
       "  <tbody>\n",
       "    <tr>\n",
       "      <th>195</th>\n",
       "      <td>1</td>\n",
       "      <td>3</td>\n",
       "      <td>17023</td>\n",
       "      <td>5139</td>\n",
       "      <td>5230</td>\n",
       "      <td>7888</td>\n",
       "      <td>330</td>\n",
       "      <td>1755</td>\n",
       "      <td>0.056339</td>\n",
       "      <td>0.069224</td>\n",
       "      <td>0.151764</td>\n",
       "      <td>0</td>\n",
       "    </tr>\n",
       "    <tr>\n",
       "      <th>241</th>\n",
       "      <td>1</td>\n",
       "      <td>1</td>\n",
       "      <td>24929</td>\n",
       "      <td>1801</td>\n",
       "      <td>2475</td>\n",
       "      <td>2216</td>\n",
       "      <td>412</td>\n",
       "      <td>1047</td>\n",
       "      <td>0.026645</td>\n",
       "      <td>0.023774</td>\n",
       "      <td>0.222260</td>\n",
       "      <td>0</td>\n",
       "    </tr>\n",
       "    <tr>\n",
       "      <th>214</th>\n",
       "      <td>2</td>\n",
       "      <td>1</td>\n",
       "      <td>2362</td>\n",
       "      <td>6551</td>\n",
       "      <td>11364</td>\n",
       "      <td>913</td>\n",
       "      <td>5957</td>\n",
       "      <td>791</td>\n",
       "      <td>0.122455</td>\n",
       "      <td>0.088450</td>\n",
       "      <td>0.021035</td>\n",
       "      <td>0</td>\n",
       "    </tr>\n",
       "    <tr>\n",
       "      <th>380</th>\n",
       "      <td>1</td>\n",
       "      <td>3</td>\n",
       "      <td>28257</td>\n",
       "      <td>944</td>\n",
       "      <td>2146</td>\n",
       "      <td>3881</td>\n",
       "      <td>600</td>\n",
       "      <td>270</td>\n",
       "      <td>0.023098</td>\n",
       "      <td>0.012105</td>\n",
       "      <td>0.251935</td>\n",
       "      <td>0</td>\n",
       "    </tr>\n",
       "    <tr>\n",
       "      <th>372</th>\n",
       "      <td>1</td>\n",
       "      <td>3</td>\n",
       "      <td>3884</td>\n",
       "      <td>3801</td>\n",
       "      <td>1641</td>\n",
       "      <td>876</td>\n",
       "      <td>397</td>\n",
       "      <td>4829</td>\n",
       "      <td>0.017655</td>\n",
       "      <td>0.051006</td>\n",
       "      <td>0.034606</td>\n",
       "      <td>0</td>\n",
       "    </tr>\n",
       "  </tbody>\n",
       "</table>\n",
       "</div>"
      ],
      "text/plain": [
       "     Channel  Region  Fresh  Milk  Grocery  Frozen  Detergents_Paper  \\\n",
       "195        1       3  17023  5139     5230    7888               330   \n",
       "241        1       1  24929  1801     2475    2216               412   \n",
       "214        2       1   2362  6551    11364     913              5957   \n",
       "380        1       3  28257   944     2146    3881               600   \n",
       "372        1       3   3884  3801     1641     876               397   \n",
       "\n",
       "     Delicassen  Scaled_Grocery  Scaled_Milk  Scaled_Fresh  gmf_labels  \n",
       "195        1755        0.056339     0.069224      0.151764           0  \n",
       "241        1047        0.026645     0.023774      0.222260           0  \n",
       "214         791        0.122455     0.088450      0.021035           0  \n",
       "380         270        0.023098     0.012105      0.251935           0  \n",
       "372        4829        0.017655     0.051006      0.034606           0  "
      ]
     },
     "execution_count": 187,
     "metadata": {},
     "output_type": "execute_result"
    }
   ],
   "source": [
    "#see what this dataframe looks like\n",
    "df.sample(5)"
   ]
  },
  {
   "cell_type": "markdown",
   "id": "83d162ad-e1c3-43d5-a9fc-10da2dec93e3",
   "metadata": {},
   "source": [
    "# Step 7: Explore"
   ]
  },
  {
   "cell_type": "markdown",
   "id": "7a2f455f-b9d2-482d-bc4f-d10e3ffad1c3",
   "metadata": {},
   "source": [
    "<div class=\"alert alert-block alert-info\">\n",
    "<b>Remember:</b> \n",
    "<br>\n",
    "    \n",
    "- <b>-1</b>: refers to data that does <u>not</u> fall into a cluster\n",
    "- <b>0</b>: refers to data that does fall into the first cluster\n",
    "</div>"
   ]
  },
  {
   "cell_type": "code",
   "execution_count": 188,
   "id": "c479c126",
   "metadata": {},
   "outputs": [
    {
     "data": {
      "text/plain": [
       " 0    432\n",
       "-1      8\n",
       "Name: gmf_labels, dtype: int64"
      ]
     },
     "execution_count": 188,
     "metadata": {},
     "output_type": "execute_result"
    }
   ],
   "source": [
    "#let's see what labels holds\n",
    "df.gmf_labels.value_counts()"
   ]
  },
  {
   "cell_type": "code",
   "execution_count": 189,
   "id": "65fad41e-b5a3-41a7-a6f9-c0ef63313799",
   "metadata": {},
   "outputs": [
    {
     "data": {
      "text/html": [
       "<div>\n",
       "<style scoped>\n",
       "    .dataframe tbody tr th:only-of-type {\n",
       "        vertical-align: middle;\n",
       "    }\n",
       "\n",
       "    .dataframe tbody tr th {\n",
       "        vertical-align: top;\n",
       "    }\n",
       "\n",
       "    .dataframe thead th {\n",
       "        text-align: right;\n",
       "    }\n",
       "</style>\n",
       "<table border=\"1\" class=\"dataframe\">\n",
       "  <thead>\n",
       "    <tr style=\"text-align: right;\">\n",
       "      <th></th>\n",
       "      <th>Channel</th>\n",
       "      <th>Region</th>\n",
       "      <th>Fresh</th>\n",
       "      <th>Milk</th>\n",
       "      <th>Grocery</th>\n",
       "      <th>Frozen</th>\n",
       "      <th>Detergents_Paper</th>\n",
       "      <th>Delicassen</th>\n",
       "      <th>Scaled_Grocery</th>\n",
       "      <th>Scaled_Milk</th>\n",
       "      <th>Scaled_Fresh</th>\n",
       "      <th>gmf_labels</th>\n",
       "    </tr>\n",
       "  </thead>\n",
       "  <tbody>\n",
       "    <tr>\n",
       "      <th>0</th>\n",
       "      <td>2</td>\n",
       "      <td>3</td>\n",
       "      <td>12669</td>\n",
       "      <td>9656</td>\n",
       "      <td>7561</td>\n",
       "      <td>214</td>\n",
       "      <td>2674</td>\n",
       "      <td>1338</td>\n",
       "      <td>0.081464</td>\n",
       "      <td>0.130727</td>\n",
       "      <td>0.112940</td>\n",
       "      <td>0</td>\n",
       "    </tr>\n",
       "    <tr>\n",
       "      <th>1</th>\n",
       "      <td>2</td>\n",
       "      <td>3</td>\n",
       "      <td>7057</td>\n",
       "      <td>9810</td>\n",
       "      <td>9568</td>\n",
       "      <td>1762</td>\n",
       "      <td>3293</td>\n",
       "      <td>1776</td>\n",
       "      <td>0.103097</td>\n",
       "      <td>0.132824</td>\n",
       "      <td>0.062899</td>\n",
       "      <td>0</td>\n",
       "    </tr>\n",
       "    <tr>\n",
       "      <th>2</th>\n",
       "      <td>2</td>\n",
       "      <td>3</td>\n",
       "      <td>6353</td>\n",
       "      <td>8808</td>\n",
       "      <td>7684</td>\n",
       "      <td>2405</td>\n",
       "      <td>3516</td>\n",
       "      <td>7844</td>\n",
       "      <td>0.082790</td>\n",
       "      <td>0.119181</td>\n",
       "      <td>0.056622</td>\n",
       "      <td>0</td>\n",
       "    </tr>\n",
       "    <tr>\n",
       "      <th>3</th>\n",
       "      <td>1</td>\n",
       "      <td>3</td>\n",
       "      <td>13265</td>\n",
       "      <td>1196</td>\n",
       "      <td>4221</td>\n",
       "      <td>6404</td>\n",
       "      <td>507</td>\n",
       "      <td>1788</td>\n",
       "      <td>0.045464</td>\n",
       "      <td>0.015536</td>\n",
       "      <td>0.118254</td>\n",
       "      <td>0</td>\n",
       "    </tr>\n",
       "    <tr>\n",
       "      <th>4</th>\n",
       "      <td>2</td>\n",
       "      <td>3</td>\n",
       "      <td>22615</td>\n",
       "      <td>5410</td>\n",
       "      <td>7198</td>\n",
       "      <td>3915</td>\n",
       "      <td>1777</td>\n",
       "      <td>5185</td>\n",
       "      <td>0.077552</td>\n",
       "      <td>0.072914</td>\n",
       "      <td>0.201626</td>\n",
       "      <td>0</td>\n",
       "    </tr>\n",
       "  </tbody>\n",
       "</table>\n",
       "</div>"
      ],
      "text/plain": [
       "   Channel  Region  Fresh  Milk  Grocery  Frozen  Detergents_Paper  \\\n",
       "0        2       3  12669  9656     7561     214              2674   \n",
       "1        2       3   7057  9810     9568    1762              3293   \n",
       "2        2       3   6353  8808     7684    2405              3516   \n",
       "3        1       3  13265  1196     4221    6404               507   \n",
       "4        2       3  22615  5410     7198    3915              1777   \n",
       "\n",
       "   Delicassen  Scaled_Grocery  Scaled_Milk  Scaled_Fresh  gmf_labels  \n",
       "0        1338        0.081464     0.130727      0.112940           0  \n",
       "1        1776        0.103097     0.132824      0.062899           0  \n",
       "2        7844        0.082790     0.119181      0.056622           0  \n",
       "3        1788        0.045464     0.015536      0.118254           0  \n",
       "4        5185        0.077552     0.072914      0.201626           0  "
      ]
     },
     "execution_count": 189,
     "metadata": {},
     "output_type": "execute_result"
    }
   ],
   "source": [
    "df.head()"
   ]
  },
  {
   "cell_type": "code",
   "execution_count": 190,
   "id": "119643af-e296-49db-bd19-f04ff3a4e17c",
   "metadata": {},
   "outputs": [
    {
     "name": "stdout",
     "output_type": "stream",
     "text": [
      "('Grocery', 'Milk')\n",
      "('Grocery', 'Fresh')\n",
      "('Milk', 'Fresh')\n"
     ]
    }
   ],
   "source": [
    "for combination in itertools.combinations(grocery_milk_fresh.columns,2):\n",
    "    print(combination)"
   ]
  },
  {
   "cell_type": "code",
   "execution_count": 191,
   "id": "effcb7cf-c898-4c04-aebb-6e447aaf7e7f",
   "metadata": {},
   "outputs": [
    {
     "data": {
      "text/plain": [
       "'Milk'"
      ]
     },
     "execution_count": 191,
     "metadata": {},
     "output_type": "execute_result"
    }
   ],
   "source": [
    "combination[0]"
   ]
  },
  {
   "cell_type": "code",
   "execution_count": 192,
   "id": "0be61d2b-4931-4797-83ec-f0af7960e40c",
   "metadata": {
    "scrolled": true,
    "tags": []
   },
   "outputs": [
    {
     "data": {
      "image/png": "[encoded data removed]",
      "text/plain": [
       "<Figure size 640x480 with 1 Axes>"
      ]
     },
     "metadata": {},
     "output_type": "display_data"
    },
    {
     "data": {
      "image/png": "[encoded data removed]",
      "text/plain": [
       "<Figure size 640x480 with 1 Axes>"
      ]
     },
     "metadata": {},
     "output_type": "display_data"
    },
    {
     "data": {
      "image/png": "[encoded data removed]",
      "text/plain": [
       "<Figure size 640x480 with 1 Axes>"
      ]
     },
     "metadata": {},
     "output_type": "display_data"
    }
   ],
   "source": [
    "for combination in itertools.combinations(grocery_milk_fresh.columns, 2):\n",
    "    sns.scatterplot(x= df[combination[0]], y=df[combination[1]], hue=df.gmf_labels)\n",
    "    plt.title(f\"{combination[0]} by {combination[1]} Cluster vs. Outliers\")\n",
    "    plt.show()\n"
   ]
  }
 ],
 "metadata": {
  "kernelspec": {
   "display_name": "Python 3 (ipykernel)",
   "language": "python",
   "name": "python3"
  },
  "language_info": {
   "codemirror_mode": {
    "name": "ipython",
    "version": 3
   },
   "file_extension": ".py",
   "mimetype": "text/x-python",
   "name": "python",
   "nbconvert_exporter": "python",
   "pygments_lexer": "ipython3",
   "version": "3.10.12"
  }
 },
 "nbformat": 4,
 "nbformat_minor": 5
}
