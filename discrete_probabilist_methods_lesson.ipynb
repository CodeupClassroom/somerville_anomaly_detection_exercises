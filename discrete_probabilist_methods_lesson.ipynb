{
 "cells": [
  {
   "cell_type": "markdown",
   "id": "03f6d59d",
   "metadata": {},
   "source": [
    "# Probabilistic Methods (Discrete)"
   ]
  },
  {
   "cell_type": "markdown",
   "id": "c386ae7b",
   "metadata": {},
   "source": [
    "<hr style=\"border:2px solid gray\">"
   ]
  },
  {
   "cell_type": "code",
   "execution_count": null,
   "id": "e022bec6",
   "metadata": {},
   "outputs": [],
   "source": [
    "import matplotlib.pyplot as plt\n",
    "import numpy as np\n",
    "import pandas as pd\n",
    "import seaborn as sns\n",
    "from sklearn import metrics\n",
    "import env\n",
    "\n",
    "import warnings\n",
    "warnings.filterwarnings(\"ignore\")"
   ]
  },
  {
   "cell_type": "markdown",
   "id": "574d671e",
   "metadata": {},
   "source": [
    "When you have a variable that is not too noisy, you can have a baseline probability, then as new datapoints come in you can identify and compare the actual rate with the expected rate (probability)."
   ]
  },
  {
   "cell_type": "markdown",
   "id": "acb0cf9e",
   "metadata": {},
   "source": [
    "<hr style=\"border:2px solid gray\">"
   ]
  },
  {
   "cell_type": "markdown",
   "id": "05456ad3",
   "metadata": {},
   "source": [
    "# Acquire the data"
   ]
  },
  {
   "cell_type": "markdown",
   "id": "7d1a991b",
   "metadata": {},
   "source": [
    "<div class=\"alert alert-block alert-info\">\n",
    "<b>Note:</b> \n",
    "Ada, was Codeup's first Data Science cohort! The data comes from the webserver logs of the API that we used in the timeseries module. Each row is one request to the server.\n",
    "</div>"
   ]
  },
  {
   "cell_type": "code",
   "execution_count": null,
   "id": "790ebd4b",
   "metadata": {},
   "outputs": [],
   "source": [
    "# function to deal with parsing one entry in our log data\n",
    "def parse_log_entry(entry):\n",
    "    parts = entry.split()\n",
    "    output = {}\n",
    "    output['ip'] = parts[0]\n",
    "    output['timestamp'] = parts[3][1:].replace(':', ' ', 1)\n",
    "    output['request_method'] = parts[5][1:]\n",
    "    output['request_path'] = parts[6]\n",
    "    output['http_version'] = parts[7][:-1]\n",
    "    output['status_code'] = parts[8]\n",
    "    output['size'] = int(parts[9])\n",
    "    output['user_agent'] = ' '.join(parts[11:]).replace('\"', '')\n",
    "    return pd.Series(output)"
   ]
  },
  {
   "cell_type": "code",
   "execution_count": null,
   "id": "03e42871",
   "metadata": {},
   "outputs": [],
   "source": [
    "#get url connection\n",
    "url = f'mysql+pymysql://{env.user}:{env.password}@{env.host}/logs'\n",
    "#read in from sql\n",
    "df = pd.read_sql('SELECT * FROM api_access', url)\n",
    "#parse data using function above\n",
    "df = df.entry.apply(parse_log_entry)\n",
    "#take a look\n",
    "df.head()"
   ]
  },
  {
   "cell_type": "markdown",
   "id": "de3ee09a",
   "metadata": {},
   "source": [
    "<b> For the sake of this lesson we will create some sythetic records and append them to our existing data frame."
   ]
  },
  {
   "cell_type": "code",
   "execution_count": null,
   "id": "4511ae1a",
   "metadata": {},
   "outputs": [],
   "source": [
    "#create new dataframe with fake data\n",
    "new = pd.DataFrame([\n",
    "    [\"95.31.18.119\", \"21/Apr/2019 10:02:41\", \"GET\", \"/api/v1/items/\", \"HTTP/1.1\", '200', 1153005, \"python-requests/2.21.0\"],\n",
    "    [\"95.31.16.121\", \"17/Apr/2019 19:36:41\", \"GET\", \"/api/v1/sales?page=79/\", \"HTTP/1.1\", '301', 1005, \"python-requests/2.21.0\"],\n",
    "    [\"97.105.15.120\", \"18/Apr/2019 19:42:41\", \"GET\", \"/api/v1/sales?page=79/\", \"HTTP/1.1\", '301', 2560, \"python-requests/2.21.0\"],\n",
    "    [\"97.105.19.58\", \"19/Apr/2019 19:42:41\", \"GET\", \"/api/v1/sales?page=79/\", \"HTTP/1.1\", '200', 2056327, \"python-requests/2.21.0\"],\n",
    "], columns=df.columns)\n",
    "\n",
    "#add the new dataframe we created to the original Ada information\n",
    "new_df = df.append(new)"
   ]
  },
  {
   "cell_type": "code",
   "execution_count": null,
   "id": "c68bc194",
   "metadata": {},
   "outputs": [],
   "source": [
    "new_df.sample(5)"
   ]
  },
  {
   "cell_type": "markdown",
   "id": "604a96ca",
   "metadata": {},
   "source": [
    "<hr style=\"border:2px solid gray\">"
   ]
  },
  {
   "cell_type": "markdown",
   "id": "2f6d393c",
   "metadata": {},
   "source": [
    "# Detecting Anomalies in Discrete Variables\n",
    "<b>Anomaly Detection</b>: Identification of items, events or observations which is significantly different from the remaining data."
   ]
  },
  {
   "cell_type": "markdown",
   "id": "1a239fd0",
   "metadata": {},
   "source": [
    "To detect anomalies in descrete variables we can look at <u>two</u> ways of summarizing the variable:\n",
    "- <b>Count</b>: the number of times each unique value appears in the dataset\n",
    "    - (ex): How many time a value of variable (e.g. ip address) shows up?\n",
    "- <b>Frequencies</b>: the number of times each unique value appears in the dataset as a percentage of the total; the count divided by the total number of observations\n",
    "    - <u>More</u> frequently occuring - <i>less</i> likely to be an anomaly\n",
    "    - <u>Less</u> frequently occuring - <i>more</i> likely to be an anomaly"
   ]
  },
  {
   "cell_type": "markdown",
   "id": "a49869e1",
   "metadata": {},
   "source": [
    "<hr style=\"border:1px solid gray\">"
   ]
  },
  {
   "cell_type": "markdown",
   "id": "9a0f1f84",
   "metadata": {},
   "source": [
    "<b>Examples of each type of Anomaly Detection technique</b>:\n",
    "- How many times we see an ip address in the dataset\n",
    "    - count how many times that ip address logs in\n",
    "- What is probability of ip address showing up in the dataset\n",
    "    - ip count / total observations\n",
    "- Conditional probability. Given an ip address, what is prob of a particular status\n",
    "    - probability of A, given that B is true\n",
    "    - e.g authentication failure"
   ]
  },
  {
   "cell_type": "markdown",
   "id": "aa52d8dd",
   "metadata": {},
   "source": [
    "### Let's take a look at ```ip``` using the count and frequency methods "
   ]
  },
  {
   "cell_type": "code",
   "execution_count": null,
   "id": "842db2b8",
   "metadata": {},
   "outputs": [],
   "source": [
    "#a count of each ip address\n",
    "new_df.ip.value_counts().head()"
   ]
  },
  {
   "cell_type": "code",
   "execution_count": null,
   "id": "4a7405fd",
   "metadata": {},
   "outputs": [],
   "source": [
    "#what percent is that of the dataset\n",
    "new_df.ip.value_counts(normalize=True).head()"
   ]
  },
  {
   "cell_type": "code",
   "execution_count": null,
   "id": "66c69b68",
   "metadata": {},
   "outputs": [],
   "source": [
    "#turn this into a dataframe\n",
    "ip_df = pd.DataFrame(new_df.ip.value_counts(dropna=False)).reset_index().\\\n",
    "                rename(columns={'index': 'ip', 'ip': 'count'})\n",
    "\n",
    "ip_df"
   ]
  },
  {
   "cell_type": "markdown",
   "id": "fab7804a",
   "metadata": {},
   "source": [
    "<b>We can define a function that combines both these pieces of information:</b>"
   ]
  },
  {
   "cell_type": "code",
   "execution_count": null,
   "id": "8efe0bbc",
   "metadata": {},
   "outputs": [],
   "source": [
    "def value_counts_and_frequencies(s: pd.Series, dropna=True) -> pd.DataFrame:\n",
    "    return pd.merge(\n",
    "        s.value_counts(dropna=False).rename('count'),\n",
    "        s.value_counts(dropna=False, normalize=True).rename('proba'),\n",
    "        left_index=True,\n",
    "        right_index=True,\n",
    "    )"
   ]
  },
  {
   "cell_type": "code",
   "execution_count": null,
   "id": "c8d60369",
   "metadata": {},
   "outputs": [],
   "source": [
    "#create a dataframe of actual count and percentage of occurances\n",
    "ip_df = value_counts_and_frequencies(new_df.ip)\n",
    "ip_df.head()"
   ]
  },
  {
   "cell_type": "code",
   "execution_count": null,
   "id": "b757f2cd",
   "metadata": {},
   "outputs": [],
   "source": [
    "#Let's visualize this\n",
    "ip_df['count'].sort_values().tail(5).plot.barh(figsize=(5, 9))\n",
    "None"
   ]
  },
  {
   "cell_type": "markdown",
   "id": "29592d1a",
   "metadata": {},
   "source": [
    "<div class=\"alert alert-block alert-success\">\n",
    "<b>Takeaways:</b>\n",
    "    \n",
    "It looks like <u>one</u> ip address is accounting for almost 86% of the hits to the codeup curriculum.\n",
    "</div>"
   ]
  },
  {
   "cell_type": "markdown",
   "id": "12826c6b",
   "metadata": {},
   "source": [
    "<hr style=\"border:1px solid gray\">"
   ]
  },
  {
   "cell_type": "markdown",
   "id": "80261862",
   "metadata": {},
   "source": [
    "### Conditional Probabilities: Probabilities using 2 discrete variables"
   ]
  },
  {
   "cell_type": "markdown",
   "id": "fc98d680",
   "metadata": {},
   "source": [
    "<b>prob(A|B) = prob(A&B)/prob(B)</b>"
   ]
  },
  {
   "cell_type": "markdown",
   "id": "af40b714",
   "metadata": {},
   "source": [
    "If we are looking for an unexpected status (like authentication failure) from a known/common IP address."
   ]
  },
  {
   "cell_type": "markdown",
   "id": "c48222fa",
   "metadata": {},
   "source": [
    "<div class=\"alert alert-block alert-info\">\n",
    "<b>HTTP Status Codes</b>\n",
    "\n",
    "- 200: ok\n",
    "- 3xx: redirects\n",
    "- 4xx: client level errors -- the requester did something wrong\n",
    "- 5xx: server level errors -- the server did something wrong\n",
    "\n",
    "</div>"
   ]
  },
  {
   "cell_type": "markdown",
   "id": "9ac6abcc",
   "metadata": {},
   "source": [
    "<b>What is probability of a certain status code given an IP address?"
   ]
  },
  {
   "cell_type": "code",
   "execution_count": null,
   "id": "4debe666",
   "metadata": {},
   "outputs": [],
   "source": [
    "#look at ip address, their status and the probability it will be that status\n",
    "status_given_ip = (\n",
    "    new_df.groupby('ip')\n",
    "    .status_code.value_counts(normalize=True)\n",
    "    .rename('proba_status_given_ip')\n",
    "    .reset_index()\n",
    ")\n",
    "status_given_ip.head()"
   ]
  },
  {
   "cell_type": "code",
   "execution_count": null,
   "id": "d9da9ae4",
   "metadata": {},
   "outputs": [],
   "source": [
    "#what about statuses that are NOT successful?\n",
    "status_given_ip[status_given_ip.status_code != '200']"
   ]
  },
  {
   "cell_type": "markdown",
   "id": "055b68e7",
   "metadata": {},
   "source": [
    "<b>This is interesting -- we have detected two ip addresses who only received 301 response codes. Let's investigate one further:"
   ]
  },
  {
   "cell_type": "code",
   "execution_count": null,
   "id": "bbba6718",
   "metadata": {},
   "outputs": [],
   "source": [
    "#what about ips that had different statuses\n",
    "status_given_ip[status_given_ip.proba_status_given_ip < 1]"
   ]
  },
  {
   "cell_type": "markdown",
   "id": "89ae97e1",
   "metadata": {},
   "source": [
    "<b>This is interesting -- 72.181.113.170 was successful on most attempts but not all. Same applies to 97.105.19.58"
   ]
  },
  {
   "cell_type": "markdown",
   "id": "c8944b04",
   "metadata": {},
   "source": [
    "### Let's investigate Further"
   ]
  },
  {
   "cell_type": "code",
   "execution_count": null,
   "id": "447a023c",
   "metadata": {},
   "outputs": [],
   "source": [
    "#why is this ip address only returning 301 errors??\n",
    "new_df[new_df.ip =='97.105.15.120']"
   ]
  },
  {
   "cell_type": "markdown",
   "id": "391e40a0",
   "metadata": {},
   "source": [
    "<div class=\"alert alert-block alert-success\">\n",
    "<b>Takeaways:</b>\n",
    "\n",
    "If the probability of a status given the ip address is 100%, we know that that was the only status code seen by that ip address. To detect anomalies here we could look for two things:\n",
    "- Cases where the probability is < 100% -- this means that multiple different status codes were encountered from the given ip address\n",
    "<br>\n",
    "\n",
    "    <b>OR</b>\n",
    "<br>\n",
    "\n",
    "- Status codes other than 200. 200 is the most common response code in our dataset by far.\n",
    "                                       \n",
    "</div>"
   ]
  },
  {
   "cell_type": "markdown",
   "id": "ae434031",
   "metadata": {},
   "source": [
    "<hr style=\"border:2px solid gray\">"
   ]
  },
  {
   "cell_type": "markdown",
   "id": "f89d1414",
   "metadata": {},
   "source": [
    "## Using the original ADA dataframe (with no new entries)"
   ]
  },
  {
   "cell_type": "code",
   "execution_count": null,
   "id": "37427268",
   "metadata": {},
   "outputs": [],
   "source": [
    "#make sure the original has 4 less entries\n",
    "len(df), len(new_df)"
   ]
  },
  {
   "cell_type": "code",
   "execution_count": null,
   "id": "08a2c67e",
   "metadata": {},
   "outputs": [],
   "source": [
    "#look at ip address, their status and the probability it will be that status\n",
    "og_status_given_ip = (\n",
    "    df.groupby('ip')\n",
    "    .status_code.value_counts(normalize=True)\n",
    "    .rename('proba_status_given_ip')\n",
    "    .reset_index()\n",
    ")\n",
    "og_status_given_ip.sample(10)"
   ]
  },
  {
   "cell_type": "code",
   "execution_count": null,
   "id": "79c2b916",
   "metadata": {},
   "outputs": [],
   "source": [
    "# Essentially a list of the probability of each ip/status code combination\n",
    "og_status_given_ip"
   ]
  },
  {
   "cell_type": "code",
   "execution_count": null,
   "id": "67925f82",
   "metadata": {},
   "outputs": [],
   "source": [
    "#set date to index, merge on ip and status\n",
    "df = df.reset_index().merge(status_given_ip, on=['ip', 'status_code'], how='left').fillna(value=0).set_index('timestamp')"
   ]
  },
  {
   "cell_type": "code",
   "execution_count": null,
   "id": "7d52837e",
   "metadata": {},
   "outputs": [],
   "source": [
    "#only give me the ips that have less than 15% unsuccessful accesses\n",
    "df[df.proba_status_given_ip < 0.15]"
   ]
  },
  {
   "cell_type": "markdown",
   "id": "ade4059d",
   "metadata": {},
   "source": [
    "<b>All low probability combinations are now easily identifiable with all additional data intact."
   ]
  },
  {
   "cell_type": "markdown",
   "id": "ba8400a9",
   "metadata": {},
   "source": [
    "<b>All of these IPs have low probability of failure"
   ]
  }
 ],
 "metadata": {
  "kernelspec": {
   "display_name": "Python 3 (ipykernel)",
   "language": "python",
   "name": "python3"
  },
  "language_info": {
   "codemirror_mode": {
    "name": "ipython",
    "version": 3
   },
   "file_extension": ".py",
   "mimetype": "text/x-python",
   "name": "python",
   "nbconvert_exporter": "python",
   "pygments_lexer": "ipython3",
   "version": "3.10.12"
  }
 },
 "nbformat": 4,
 "nbformat_minor": 5
}
